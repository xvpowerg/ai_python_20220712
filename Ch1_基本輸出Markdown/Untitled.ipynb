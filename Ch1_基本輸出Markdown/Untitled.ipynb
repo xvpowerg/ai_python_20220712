{
 "cells": [
  {
   "cell_type": "markdown",
   "id": "aa3749d4",
   "metadata": {},
   "source": [
    "# 這是一個輸出Hello\n",
    "## 這是一個輸出Hello\n",
    "### 這是一個輸出Hello\n",
    "#### 這是一個輸出Hello\n",
    "\n",
    "\n",
    "*斜體* \n",
    "\n",
    "**粗體**\n",
    "\n",
    "***粗體***\n",
    "\n",
    "[巴哈姆特](https://www.gamer.com.tw/)\n",
    "\n",
    "[Notion](https://www.notion.so/87f380eaa4834f088f3be7a73b27f97b?v=fb2dbdc2829348de9dba6aa5bf43706c&p=548798c7b4cb48e88b18c9d44ec6d497)\n",
    "\n",
    "```python\n",
    "for v in range(10):\n",
    "   print(v)\n",
    "```"
   ]
  },
  {
   "cell_type": "code",
   "execution_count": 14,
   "id": "3d6d15d8",
   "metadata": {},
   "outputs": [
    {
     "name": "stdout",
     "output_type": "stream",
     "text": [
      "Hello\n"
     ]
    }
   ],
   "source": [
    "print(\"Hello\")"
   ]
  },
  {
   "cell_type": "code",
   "execution_count": 20,
   "id": "6120b102",
   "metadata": {},
   "outputs": [
    {
     "name": "stdout",
     "output_type": "stream",
     "text": [
      "100\n",
      "100\n"
     ]
    }
   ],
   "source": [
    "openedx = 100\n",
    "print(openedx)\n",
    "x = 70\n",
    "y = 30\n",
    "print(x + y)"
   ]
  },
  {
   "cell_type": "code",
   "execution_count": 29,
   "id": "f43aa5fc",
   "metadata": {},
   "outputs": [],
   "source": [
    "\"\"\"\n",
    "作者:Howard\n",
    "日期:2022/07/12\n",
    "測試註解!\n",
    "\"\"\"\n",
    "x = 10 #x是倍數"
   ]
  },
  {
   "cell_type": "code",
   "execution_count": 36,
   "id": "cdcde18e",
   "metadata": {
    "scrolled": true
   },
   "outputs": [
    {
     "ename": "NameError",
     "evalue": "name 'x1' is not defined",
     "output_type": "error",
     "traceback": [
      "\u001b[1;31m---------------------------------------------------------------------------\u001b[0m",
      "\u001b[1;31mNameError\u001b[0m                                 Traceback (most recent call last)",
      "Input \u001b[1;32mIn [36]\u001b[0m, in \u001b[0;36m<cell line: 1>\u001b[1;34m()\u001b[0m\n\u001b[1;32m----> 1\u001b[0m \u001b[38;5;28;01mdel\u001b[39;00m x1\n\u001b[0;32m      2\u001b[0m \u001b[38;5;28mprint\u001b[39m(x1)\n",
      "\u001b[1;31mNameError\u001b[0m: name 'x1' is not defined"
     ]
    }
   ],
   "source": [
    "del x1\n",
    "print(x1)"
   ]
  },
  {
   "cell_type": "markdown",
   "id": "a5ffae85",
   "metadata": {},
   "source": [
    "# Type 與 ID"
   ]
  },
  {
   "cell_type": "code",
   "execution_count": 44,
   "id": "1a9ff999",
   "metadata": {},
   "outputs": [
    {
     "name": "stdout",
     "output_type": "stream",
     "text": [
      "<class 'int'>\n",
      "<class 'float'>\n",
      "<class 'bool'>\n",
      "<class 'str'>\n",
      "140709789835136\n",
      "140709789835616\n",
      "2381200116016\n",
      "140709789835136\n",
      "140709789835136\n"
     ]
    }
   ],
   "source": [
    "var1 = 20\n",
    "print(type(var1))\n",
    "\n",
    "var2 = 123.45\n",
    "print(type(var2))\n",
    "\n",
    "var3=True\n",
    "print(type(var3))\n",
    "\n",
    "var4 = 'string1'\n",
    "print(type(var4))\n",
    "\n",
    "a = 5\n",
    "print(id(a))\n",
    "a = 20\n",
    "print(id(a))\n",
    "a = \"test\"\n",
    "print(id(a))\n",
    "\n",
    "b=5\n",
    "print(id(b))\n",
    "b=5\n",
    "print(id(b))"
   ]
  },
  {
   "cell_type": "markdown",
   "id": "5e603aab",
   "metadata": {},
   "source": [
    "# 字串串接"
   ]
  },
  {
   "cell_type": "code",
   "execution_count": 50,
   "id": "d1a553bb",
   "metadata": {},
   "outputs": [
    {
     "name": "stdout",
     "output_type": "stream",
     "text": [
      "age:5\n",
      "HeyHeyHeyHey\n"
     ]
    }
   ],
   "source": [
    "msg = \"age:\"+str(5)\n",
    "print(msg)\n",
    "msg2 = (\"Hey\"*3)+\"Hey\"\n",
    "print(msg2)"
   ]
  },
  {
   "cell_type": "markdown",
   "id": "bb1a2f39",
   "metadata": {},
   "source": [
    "# 數值給予"
   ]
  },
  {
   "cell_type": "code",
   "execution_count": 56,
   "id": "33219d8a",
   "metadata": {},
   "outputs": [
    {
     "name": "stdout",
     "output_type": "stream",
     "text": [
      "10 Ken 30\n",
      "20\n",
      "10\n"
     ]
    }
   ],
   "source": [
    "a,b,c = 10,\"Ken\",30\n",
    "print(a,b,c)\n",
    "\n",
    "x=10\n",
    "y=20\n",
    "\n",
    "x,y=y,x\n",
    "\n",
    "tmp = x\n",
    "x = y\n",
    "y = tmp\n",
    "\n",
    "print(x)\n",
    "print(y)"
   ]
  },
  {
   "cell_type": "markdown",
   "id": "efddc3e4",
   "metadata": {},
   "source": [
    "# 輸入"
   ]
  },
  {
   "cell_type": "code",
   "execution_count": 5,
   "id": "2bdd8de8",
   "metadata": {},
   "outputs": [
    {
     "name": "stdout",
     "output_type": "stream",
     "text": [
      "輸入整數1a:20\n",
      "輸入整數1b:30\n",
      "int輸入c:20\n",
      "int輸入d:30\n",
      "2030\n",
      "50\n"
     ]
    }
   ],
   "source": [
    "a = input(\"輸入整數1a:\")\n",
    "b = input(\"輸入整數1b:\")\n",
    "\n",
    "c = int(input(\"int輸入c:\"))  \n",
    "d = int(input(\"int輸入d:\"))\n",
    "\n",
    "f = a + b\n",
    "g = c + d\n",
    "print(f)\n",
    "print(g)"
   ]
  },
  {
   "cell_type": "code",
   "execution_count": 6,
   "id": "7ded3f49",
   "metadata": {},
   "outputs": [
    {
     "name": "stdout",
     "output_type": "stream",
     "text": [
      "int輸入c:10\n",
      "int輸入ｄ:60\n",
      "70\n",
      "float輸入h:2.56\n",
      "float輸入i:3.14\n",
      "5.7\n"
     ]
    }
   ],
   "source": [
    "c = int(input(\"int輸入c:\"))\n",
    "d = int(input(\"int輸入ｄ:\"))\n",
    "g = c + d\n",
    "print(g)\n",
    "h = float(input(\"float輸入h:\"))\n",
    "i = float(input(\"float輸入i:\"))\n",
    "j = h + i\n",
    "print(j)"
   ]
  },
  {
   "cell_type": "code",
   "execution_count": 10,
   "id": "6941f9a6",
   "metadata": {},
   "outputs": [
    {
     "name": "stdout",
     "output_type": "stream",
     "text": [
      "輸入字串qwer\n",
      "qwer <class 'str'>\n",
      "輸入整數1234\n",
      "1234 <class 'str'>\n",
      "float請輸入浮點數:3.1415\n",
      "3.1415 <class 'float'>\n",
      "輸入整數123\n",
      "123 <class 'int'>\n",
      "輸入字串qwer\n"
     ]
    },
    {
     "ename": "ValueError",
     "evalue": "invalid literal for int() with base 10: 'qwer'",
     "output_type": "error",
     "traceback": [
      "\u001b[1;31m---------------------------------------------------------------------------\u001b[0m",
      "\u001b[1;31mValueError\u001b[0m                                Traceback (most recent call last)",
      "Input \u001b[1;32mIn [10]\u001b[0m, in \u001b[0;36m<cell line: 13>\u001b[1;34m()\u001b[0m\n\u001b[0;32m     10\u001b[0m a \u001b[38;5;241m=\u001b[39m \u001b[38;5;28mint\u001b[39m(\u001b[38;5;28minput\u001b[39m(\u001b[38;5;124m\"\u001b[39m\u001b[38;5;124m輸入整數\u001b[39m\u001b[38;5;124m\"\u001b[39m))\n\u001b[0;32m     11\u001b[0m \u001b[38;5;28mprint\u001b[39m(a,a\u001b[38;5;241m.\u001b[39m\u001b[38;5;18m__class__\u001b[39m)\n\u001b[1;32m---> 13\u001b[0m a \u001b[38;5;241m=\u001b[39m \u001b[38;5;28;43mint\u001b[39;49m\u001b[43m(\u001b[49m\u001b[38;5;28;43minput\u001b[39;49m\u001b[43m(\u001b[49m\u001b[38;5;124;43m\"\u001b[39;49m\u001b[38;5;124;43m輸入字串\u001b[39;49m\u001b[38;5;124;43m\"\u001b[39;49m\u001b[43m)\u001b[49m\u001b[43m)\u001b[49m\n\u001b[0;32m     14\u001b[0m \u001b[38;5;28mprint\u001b[39m(a,a\u001b[38;5;241m.\u001b[39m\u001b[38;5;18m__class__\u001b[39m)\n",
      "\u001b[1;31mValueError\u001b[0m: invalid literal for int() with base 10: 'qwer'"
     ]
    }
   ],
   "source": [
    "a = input(\"輸入字串\")\n",
    "print(a,a.__class__)\n",
    "\n",
    "a = input(\"輸入整數\")\n",
    "print(a,a.__class__)\n",
    "\n",
    "a = float(input(\"float請輸入浮點數:\"))\n",
    "print(a,a.__class__)\n",
    "\n",
    "a = int(input(\"輸入整數\"))\n",
    "print(a,a.__class__)\n",
    "\n",
    "a = int(input(\"輸入字串\"))\n",
    "print(a,a.__class__)\n",
    "\n"
   ]
  },
  {
   "cell_type": "code",
   "execution_count": 11,
   "id": "1dbe3fd2",
   "metadata": {},
   "outputs": [
    {
     "name": "stdout",
     "output_type": "stream",
     "text": [
      "13\n"
     ]
    }
   ],
   "source": [
    "x = 5\n",
    "y = 7\n",
    "z = x + y + 1\n",
    "print(z)"
   ]
  },
  {
   "cell_type": "code",
   "execution_count": 16,
   "id": "50523f23",
   "metadata": {},
   "outputs": [
    {
     "name": "stdout",
     "output_type": "stream",
     "text": [
      "8\n",
      "16\n",
      "64\n",
      "1\n",
      "8.75\n",
      "2.5\n",
      "2\n"
     ]
    }
   ],
   "source": [
    "a,b,c=4,2,5\n",
    "d,f=3.25,5.5\n",
    "print(a*b)\n",
    "print(a**b)\n",
    "print(a**3)\n",
    "print(a%3)\n",
    "print(d+f)\n",
    "print(c/b)\n",
    "print(c//b)\n"
   ]
  },
  {
   "cell_type": "code",
   "execution_count": 19,
   "id": "707439d3",
   "metadata": {},
   "outputs": [
    {
     "name": "stdout",
     "output_type": "stream",
     "text": [
      "5\n",
      "0.98\n"
     ]
    }
   ],
   "source": [
    "x=0\n",
    "#x = x + 2\n",
    "x += 2\n",
    "x += 3\n",
    "print(x)\n",
    "\n",
    "hp = 100\n",
    "hp -= 2\n",
    "print(hp/100)"
   ]
  },
  {
   "cell_type": "code",
   "execution_count": null,
   "id": "a1b263a5",
   "metadata": {},
   "outputs": [],
   "source": []
  }
 ],
 "metadata": {
  "kernelspec": {
   "display_name": "Python 3 (ipykernel)",
   "language": "python",
   "name": "python3"
  },
  "language_info": {
   "codemirror_mode": {
    "name": "ipython",
    "version": 3
   },
   "file_extension": ".py",
   "mimetype": "text/x-python",
   "name": "python",
   "nbconvert_exporter": "python",
   "pygments_lexer": "ipython3",
   "version": "3.8.11"
  }
 },
 "nbformat": 4,
 "nbformat_minor": 5
}
